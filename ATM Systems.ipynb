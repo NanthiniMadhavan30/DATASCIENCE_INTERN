{
 "cells": [
  {
   "cell_type": "code",
   "execution_count": null,
   "id": "010bc289-dc0f-4528-96c6-d6b14c636689",
   "metadata": {},
   "outputs": [],
   "source": [
    "#atm system to perform operation on deposit , withdraw and check balance\n",
    "balance = 1000\n",
    "def deposit(amount):\n",
    "  global balance\n",
    "  balance += amount\n",
    "\n",
    "def withdraw(amount):\n",
    "  global balance\n",
    "  if balance >= amount:\n",
    "    balance -= amount\n",
    "  else:\n",
    "    print(\"Insufficient funds\")\n",
    "\n",
    "def check_balance():\n",
    "  global balance\n",
    "  print(f\"Your balance is: {balance}\")\n",
    "\n",
    "while True:\n",
    "  print(\"Please choose an option:\")\n",
    "  print(\"1. Deposit\")\n",
    "  print(\"2. Withdraw\")\n",
    "  print(\"3. Check balance\")\n",
    "  print(\"4. Exit\")\n",
    "\n",
    "  choice = int(input(\"Enter your choice: \"))\n",
    "\n",
    "  if choice == 1:\n",
    "    amount = int(input(\"Enter the amount to deposit: \"))\n",
    "    deposit(amount)\n",
    "  elif choice == 2:\n",
    "    amount = int(input(\"Enter the amount to withdraw: \"))\n",
    "    withdraw(amount)\n",
    "  elif choice == 3:\n",
    "    check_balance()\n",
    "  elif choice == 4:\n",
    "    break\n",
    "  else:\n",
    "    print(\"Invalid choice\")\n",
    "\n",
    "print(\"Thank you for using the ATM\")"
   ]
  }
 ],
 "metadata": {
  "kernelspec": {
   "display_name": "Python 3 (ipykernel)",
   "language": "python",
   "name": "python3"
  },
  "language_info": {
   "codemirror_mode": {
    "name": "ipython",
    "version": 3
   },
   "file_extension": ".py",
   "mimetype": "text/x-python",
   "name": "python",
   "nbconvert_exporter": "python",
   "pygments_lexer": "ipython3",
   "version": "3.12.4"
  }
 },
 "nbformat": 4,
 "nbformat_minor": 5
}
