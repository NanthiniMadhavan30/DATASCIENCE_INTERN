{
 "cells": [
  {
   "cell_type": "code",
   "execution_count": null,
   "id": "113f189a-8c3b-4508-a837-04139114eaed",
   "metadata": {},
   "outputs": [],
   "source": [
    "#dictionary\n",
    "\n",
    "d = {1:'Intelligent',2:'Python',3:'Training'}\n",
    "print(' original Dictionary:',d)\n",
    "\n",
    "print(d.get(1))\n",
    "\n",
    "print(d.keys())\n",
    "\n",
    "print(d.values())\n",
    "\n",
    "print(d.items())\n",
    "\n",
    "print(\"\\nRemoved Item:\",d.pop(2))\n",
    "\n",
    "print(\"Dictionary after removal\",d)"
   ]
  },
  {
   "cell_type": "code",
   "execution_count": null,
   "id": "01294316-f691-4d07-8a9b-6860c3268c70",
   "metadata": {},
   "outputs": [],
   "source": [
    "#dictionar--key value pair\n",
    "\n",
    "keys = {'a','b','c','d','e'}\n",
    "values = [1,2,3,4,5]\n",
    "Dict1={ k:v for (k,v) in zip(keys,values)}\n",
    "print(Dict1)"
   ]
  },
  {
   "cell_type": "code",
   "execution_count": null,
   "id": "a8cebfbe-5959-48c7-a200-fa2c1a54b7d4",
   "metadata": {},
   "outputs": [],
   "source": [
    "#print a list that gives the multiplication of the given list\n",
    "\n",
    "a=[10,20,30,40,50]\n",
    "o=[]\n",
    "for i in a :\n",
    "  o.append (i*2)\n",
    "print(o)"
   ]
  },
  {
   "cell_type": "code",
   "execution_count": null,
   "id": "b6df70db-8062-4476-b84c-5ded1733b9f6",
   "metadata": {},
   "outputs": [],
   "source": [
    "#letter are same or not\n",
    "\n",
    "s1=[\"SILENT\"]\n",
    "S2=[\"LISTEN\"]\n",
    "if s1==S2:\n",
    "  print(\"The letetrs are same\")\n",
    "else:\n",
    "  print(\"The letetrs are not same\")"
   ]
  },
  {
   "cell_type": "code",
   "execution_count": null,
   "id": "6af565b8-1e55-41a9-8947-9d342fab3d56",
   "metadata": {},
   "outputs": [],
   "source": [
    "#STRING ANAGRAM\n",
    "\n",
    "def check(s1,s2):\n",
    "  if (sorted(s1)==sorted(s2)):\n",
    "    print(\"The letters are same\")\n",
    "  else:\n",
    "    print(\"The letters are not same\")\n",
    "\n",
    "s1=input(\"Enter s1:\")\n",
    "s2=input(\"Enter s2:\")\n",
    "check(s1,s2)"
   ]
  },
  {
   "cell_type": "code",
   "execution_count": null,
   "id": "748162c3-3e0c-49cc-8f57-52cfdf0598a5",
   "metadata": {},
   "outputs": [],
   "source": [
    "#armstrong number or not\n",
    "\n",
    "num = int(input(\"Enter a number: \"))\n",
    "sum = 0\n",
    "temp = num\n",
    "order = len(str(num))\n",
    "while temp > 0:\n",
    "   digit = temp % 10\n",
    "   sum += digit ** order\n",
    "   temp //= 10\n",
    "if num == sum:\n",
    "   print(num,\"is an Armstrong number\")\n",
    "else:\n",
    "   print(num,\"is not an Armstrong number\")"
   ]
  }
 ],
 "metadata": {
  "kernelspec": {
   "display_name": "Python 3 (ipykernel)",
   "language": "python",
   "name": "python3"
  },
  "language_info": {
   "codemirror_mode": {
    "name": "ipython",
    "version": 3
   },
   "file_extension": ".py",
   "mimetype": "text/x-python",
   "name": "python",
   "nbconvert_exporter": "python",
   "pygments_lexer": "ipython3",
   "version": "3.12.4"
  }
 },
 "nbformat": 4,
 "nbformat_minor": 5
}
