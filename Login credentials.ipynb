{
 "cells": [
  {
   "cell_type": "code",
   "execution_count": null,
   "id": "bd1b8cb9-0bb5-44e9-a066-72a450877559",
   "metadata": {},
   "outputs": [],
   "source": [
    "#using dictionary real time example for LOGIN CREDENTIALS\n",
    "\n",
    "database={'Nanthini':123,'Ananthi':456,'Madhavan':789,'Tamil':963}\n",
    "username=input('please enter your username:').strip().lower()\n",
    "\n",
    "if username in database.keys():\n",
    "  password=int(input('please enter your password:'))\n",
    "  if password==database[username]:\n",
    "    print('login successful',username.capitalize())\n",
    "  else:\n",
    "    print('invalid password')\n",
    "else:\n",
    "  print('soryy but it seems your password is incorrect or the username entered is wrong ')\n",
    "  response = input('Do you want to be added to the database ? (YES/NO)').capitalize()\n",
    "\n",
    "  if response==\"YES\":\n",
    "    password=int(input('enter your password:'))\n",
    "    database [usrname]=password\n",
    "  else:\n",
    "    print('Thankyou for visiting.See you again!')\n",
    "\n",
    "print(database)"
   ]
  }
 ],
 "metadata": {
  "kernelspec": {
   "display_name": "Python 3 (ipykernel)",
   "language": "python",
   "name": "python3"
  },
  "language_info": {
   "codemirror_mode": {
    "name": "ipython",
    "version": 3
   },
   "file_extension": ".py",
   "mimetype": "text/x-python",
   "name": "python",
   "nbconvert_exporter": "python",
   "pygments_lexer": "ipython3",
   "version": "3.12.4"
  }
 },
 "nbformat": 4,
 "nbformat_minor": 5
}
