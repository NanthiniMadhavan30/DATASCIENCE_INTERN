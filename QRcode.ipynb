{
 "cells": [
  {
   "cell_type": "code",
   "execution_count": 1,
   "id": "4f5f3707-e480-4aaf-b98f-009a2f0a5b86",
   "metadata": {},
   "outputs": [
    {
     "name": "stdout",
     "output_type": "stream",
     "text": [
      "Collecting qrcode\n",
      "  Downloading qrcode-7.4.2-py3-none-any.whl.metadata (17 kB)\n",
      "Requirement already satisfied: typing-extensions in c:\\users\\amnan\\anaconda3\\lib\\site-packages (from qrcode) (4.11.0)\n",
      "Collecting pypng (from qrcode)\n",
      "  Downloading pypng-0.20220715.0-py3-none-any.whl.metadata (13 kB)\n",
      "Requirement already satisfied: colorama in c:\\users\\amnan\\anaconda3\\lib\\site-packages (from qrcode) (0.4.6)\n",
      "Downloading qrcode-7.4.2-py3-none-any.whl (46 kB)\n",
      "   ---------------------------------------- 0.0/46.2 kB ? eta -:--:--\n",
      "   ---------------------------------------- 0.0/46.2 kB ? eta -:--:--\n",
      "   ---------------------------------------- 0.0/46.2 kB ? eta -:--:--\n",
      "   ---------------------------------------- 46.2/46.2 kB 2.4 MB/s eta 0:00:00\n",
      "Downloading pypng-0.20220715.0-py3-none-any.whl (58 kB)\n",
      "   ---------------------------------------- 0.0/58.1 kB ? eta -:--:--\n",
      "   ----------------------------------- ---- 51.2/58.1 kB 2.6 MB/s eta 0:00:01\n",
      "   ---------------------------------------- 58.1/58.1 kB 1.5 MB/s eta 0:00:00\n",
      "Installing collected packages: pypng, qrcode\n",
      "Successfully installed pypng-0.20220715.0 qrcode-7.4.2\n",
      "Note: you may need to restart the kernel to use updated packages.\n"
     ]
    }
   ],
   "source": [
    "pip install qrcode"
   ]
  },
  {
   "cell_type": "code",
   "execution_count": 5,
   "id": "2affbe29-9a21-4165-b9d0-233236be9d7d",
   "metadata": {},
   "outputs": [
    {
     "name": "stdout",
     "output_type": "stream",
     "text": [
      "[[1 2 3]\n",
      " [4 5 6]]\n"
     ]
    }
   ],
   "source": [
    "import numpy as np\n",
    "matrix1=np.array([[1,2,3],[4,5,6]])\n",
    "print(matrix1)"
   ]
  },
  {
   "cell_type": "code",
   "execution_count": 7,
   "id": "d3dc850c-211e-4ab0-a851-55a1d0f97f3a",
   "metadata": {},
   "outputs": [
    {
     "name": "stdout",
     "output_type": "stream",
     "text": [
      "\n",
      "Q:\n",
      " [[-0.24253563 -0.9701425 ]\n",
      " [-0.9701425   0.24253563]]\n",
      "\n",
      "R:\n",
      " [[-4.12310563 -5.33578375 -6.54846188]\n",
      " [ 0.         -0.72760688 -1.45521375]]\n"
     ]
    }
   ],
   "source": [
    "q,r=np.linalg.qr(matrix1)\n",
    "print('\\nQ:\\n',q)\n",
    "print('\\nR:\\n',r)\n",
    "qr_data=str(q)+ '\\n' + str(r)"
   ]
  },
  {
   "cell_type": "code",
   "execution_count": 9,
   "id": "999a7c8a-1201-495d-a45a-850f13e3e589",
   "metadata": {},
   "outputs": [
    {
     "name": "stdout",
     "output_type": "stream",
     "text": [
      "QR code generated successfully\n"
     ]
    }
   ],
   "source": [
    "import qrcode\n",
    "img=qrcode.make(qr_data)\n",
    "img.save('qr_code.png')\n",
    "print(\"QR code generated successfully\")"
   ]
  },
  {
   "cell_type": "code",
   "execution_count": 11,
   "id": "d5e42e0b-cbf9-48f3-8a40-0d3f0293c9f8",
   "metadata": {},
   "outputs": [],
   "source": [
    "from PIL import Image\n",
    "from numpy import asarray"
   ]
  },
  {
   "cell_type": "code",
   "execution_count": 13,
   "id": "98a0dbd5-b8a2-4f87-8ba2-a1c32e6efef1",
   "metadata": {},
   "outputs": [
    {
     "name": "stdout",
     "output_type": "stream",
     "text": [
      "[[ True  True  True ...  True  True  True]\n",
      " [ True  True  True ...  True  True  True]\n",
      " [ True  True  True ...  True  True  True]\n",
      " ...\n",
      " [ True  True  True ...  True  True  True]\n",
      " [ True  True  True ...  True  True  True]\n",
      " [ True  True  True ...  True  True  True]]\n"
     ]
    }
   ],
   "source": [
    "img = Image.open(r\"qr_code.png\")\n",
    "numpydata = asarray(img)\n",
    "print(numpydata)"
   ]
  },
  {
   "cell_type": "code",
   "execution_count": null,
   "id": "337983a2-3fc5-4cce-8623-2ce5014112d5",
   "metadata": {},
   "outputs": [],
   "source": []
  }
 ],
 "metadata": {
  "kernelspec": {
   "display_name": "Python 3 (ipykernel)",
   "language": "python",
   "name": "python3"
  },
  "language_info": {
   "codemirror_mode": {
    "name": "ipython",
    "version": 3
   },
   "file_extension": ".py",
   "mimetype": "text/x-python",
   "name": "python",
   "nbconvert_exporter": "python",
   "pygments_lexer": "ipython3",
   "version": "3.12.4"
  }
 },
 "nbformat": 4,
 "nbformat_minor": 5
}
