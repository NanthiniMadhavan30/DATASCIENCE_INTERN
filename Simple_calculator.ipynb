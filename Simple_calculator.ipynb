{
 "cells": [
  {
   "cell_type": "code",
   "execution_count": null,
   "id": "9af1442c-0db0-4663-9264-734dcba09695",
   "metadata": {},
   "outputs": [],
   "source": [
    "#simple calculator\n",
    "\n",
    "def calculator():\n",
    "  num1 = float(input(\"Enter first number: \"))\n",
    "  op = input(\"Enter operator (+, -, *, /): \")\n",
    "  num2 = float(input(\"Enter second number: \"))\n",
    "\n",
    "  if op == \"+\":\n",
    "    result = num1 + num2\n",
    "  elif op == \"-\":\n",
    "    result = num1 - num2\n",
    "  elif op == \"*\":\n",
    "    result = num1 * num2\n",
    "  elif op == \"/\":\n",
    "    if num2 == 0:\n",
    "      return \"Division by zero is not allowed.\"\n",
    "    else:\n",
    "      result = num1 / num2\n",
    "  else:\n",
    "    return \"Invalid operator.\"\n",
    "\n",
    "  return result\n",
    "\n",
    "print(calculator())"
   ]
  },
  {
   "cell_type": "code",
   "execution_count": null,
   "id": "73ff4011-75d7-4fdf-9794-fbf4efff38d5",
   "metadata": {},
   "outputs": [],
   "source": [
    "s={1,2,3,4,5,6,7,7,7}\n",
    "s.add(8)\n",
    "s.remove(3)\n",
    "s.clear()\n",
    "print(s)"
   ]
  },
  {
   "cell_type": "code",
   "execution_count": null,
   "id": "08cfde3a-57dd-4b5c-b4e0-2e6f79fcf44f",
   "metadata": {},
   "outputs": [],
   "source": [
    "s1={1,2,3,4,5}\n",
    "s2={3,4,5,6,7}\n",
    "s3=s1.union(s2)\n",
    "print(s3)"
   ]
  },
  {
   "cell_type": "code",
   "execution_count": null,
   "id": "87ae57a7-ca9a-4f69-8cb5-76d70bf516d6",
   "metadata": {},
   "outputs": [],
   "source": [
    "s1={1,2,3,4,5}\n",
    "s2={3,4,5,6,7}\n",
    "s3=s1.intersection(s2)\n",
    "print(s3)"
   ]
  },
  {
   "cell_type": "code",
   "execution_count": null,
   "id": "eebfce3b-dad0-4100-8932-405bc9dd7085",
   "metadata": {},
   "outputs": [],
   "source": [
    "s1={1,2,3,4,5}\n",
    "s2={3,4,5,6,7}\n",
    "s3=s1.issubset(s2)\n",
    "print(s3)"
   ]
  },
  {
   "cell_type": "code",
   "execution_count": null,
   "id": "34fce32f-154b-4fed-9e42-981bda6e3a3d",
   "metadata": {},
   "outputs": [],
   "source": [
    "def perform_operation():\n",
    "  try:\n",
    "    r=10/0\n",
    "  except ZeroDivisionError as e:\n",
    "    print(f\"caught:{e}\")\n",
    "try:\n",
    "  r=10+\"5\"\n",
    "except TypeError as e:\n",
    "  print(f\"caught:{e}\")\n",
    "try:\n",
    "  r=a\n",
    "except NameError as e:\n",
    "  print(f\"caught:{e}\")\n",
    "try:\n",
    "  r=[1,2,3]\n",
    "  o=r[10]\n",
    "except IndexError as e:\n",
    "  print(f\"caught:{e}\")\n",
    "try:\n",
    "  r=int(\"abc\")\n",
    "except ValueError as e:\n",
    "  print(f\"caught:{e}\")\n",
    "def main():\n",
    "  perform_operation()\n",
    "  if __name__==\"__main__\":\n",
    "    main()\n",
    "    try:\n",
    "      print(f\"caught:{e}\")\n",
    "    finally:\n",
    "      print(\"complated\")"
   ]
  },
  {
   "cell_type": "code",
   "execution_count": null,
   "id": "0838031c-f200-4b99-91e0-d2ad85855030",
   "metadata": {},
   "outputs": [],
   "source": [
    "bin(7)"
   ]
  },
  {
   "cell_type": "code",
   "execution_count": null,
   "id": "3816f7fd-acf9-4cad-85de-6cc4c1631452",
   "metadata": {},
   "outputs": [],
   "source": [
    "print (7&4)"
   ]
  },
  {
   "cell_type": "code",
   "execution_count": null,
   "id": "ed2b2a67-4eff-4574-8247-5358105da505",
   "metadata": {},
   "outputs": [],
   "source": [
    "import numpy as np\n",
    "a = np.array([[1,2,3],[4,5,6]])\n",
    "b = np.array([[2,3,4],[8,9,6]])\n",
    "a.shape=(6,1)\n",
    "print (a)\n",
    "np.linspace(5,10,6)\n",
    "np.full((2,5),5)\n",
    "np.random.random((2,5))\n",
    "print(a.shape)\n",
    "print(a.size)\n",
    "print(a.ndim)\n",
    "print(b.ndim)"
   ]
  },
  {
   "cell_type": "code",
   "execution_count": null,
   "id": "b9359540-4f14-4248-96c5-76dbc794f1ca",
   "metadata": {},
   "outputs": [],
   "source": [
    "import numpy as np\n",
    "a = np.array([[1,2,3],[4,5,6]])\n",
    "b = np.array([[2,3,4],[8,9,6]])"
   ]
  }
 ],
 "metadata": {
  "kernelspec": {
   "display_name": "Python 3 (ipykernel)",
   "language": "python",
   "name": "python3"
  },
  "language_info": {
   "codemirror_mode": {
    "name": "ipython",
    "version": 3
   },
   "file_extension": ".py",
   "mimetype": "text/x-python",
   "name": "python",
   "nbconvert_exporter": "python",
   "pygments_lexer": "ipython3",
   "version": "3.12.4"
  }
 },
 "nbformat": 4,
 "nbformat_minor": 5
}
